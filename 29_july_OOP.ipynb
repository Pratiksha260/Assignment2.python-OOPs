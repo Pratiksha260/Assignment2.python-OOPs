{
 "cells": [
  {
   "cell_type": "markdown",
   "id": "9cad459f",
   "metadata": {},
   "source": [
    "1. Explain what inheritance is in object-oriented programming and why it is used.\n",
    "\n",
    "ANS:In object-oriented programming,inheritance is a mechanism that allows new classes to reuse, extend, and modify the behavior and properties of existing classes.The existing class is called the 'base class' or 'super class', and the new class is called the 'derived class' or 'subclass'.Inheritance forms a hierarchy of classes and enables an object created from a derived class to acquire all the attributes and behaviors of the base class, except for some specific cases.\n",
    "\n",
    "   Inheritance is used to create new classes that reuse, extend, and modify the behavior defined in other classes.It forms a hierarchy of classes that share a set of attributes and method.It also l=allow to create more specialized classes based on existing class.\n",
    "   \n",
    "   The key to understanding Inheritance is that it provides re-usability.Instead of writing the sasme code repeatedly, we can simply inherit the properties of an existing class.This saves a ton of time.The class whose properties and methods are inherited is known as the parent class or superclass. And the class that inherits the properties from the parent class is the child class or derived class.\n",
    "\n"
   ]
  },
  {
   "cell_type": "code",
   "execution_count": 3,
   "id": "98f2bfda",
   "metadata": {},
   "outputs": [
    {
     "name": "stdout",
     "output_type": "stream",
     "text": [
      "Satyam: 102\n"
     ]
    }
   ],
   "source": [
    "\n",
    "# A Python program to demonstrate inheritance\n",
    "class Person(object):\n",
    "   \n",
    "  # Constructor\n",
    "      def __init__(self, name, id):\n",
    "        self.name = name\n",
    "        self.id = id\n",
    " \n",
    "  # To check if this person is an employee\n",
    "      def Display(self):\n",
    "        print(self.name, self.id)\n",
    " \n",
    " \n",
    "# Driver code\n",
    "emp = Person(\"Satyam:\", 102) # An Object of Person\n",
    "emp.Display()"
   ]
  },
  {
   "cell_type": "markdown",
   "id": "c774789c",
   "metadata": {},
   "source": [
    "2. Discuss the concept of single inheritance and multiple inheritance, highlighting their\n",
    "differences and advantages.\n",
    "\n",
    "ANS:Inheritance is a concept in object-oriented programming that allows a class to inherit attributes and method from another class.Single inheritance is when a class inherits from only one parent class,while multiple inheritance is when a class inherits from more than one parent class.\n",
    "\n",
    "Advantages of single inheritance are:\n",
    "\n",
    "1.it is simple and easy to implement.\n",
    "\n",
    "2.it avoid the complexity of multiple inheritance.\n",
    "\n",
    "3.it support the principle of reusability.\n",
    "\n",
    "Advantages of multiple inheritance are:\n",
    "\n",
    "1.it allows a class to have more functionality and features.\n",
    "\n",
    "2.it reduces the need for creating intermediate classes.\n",
    "\n",
    "3.it support the principle of polymorphism.\n",
    "\n",
    "Differences in between single inheritance and multiple inheritance:\n",
    "\n",
    "-Single inheritance has a single class and a single derived class, whole multiple inheritance has two or more classes but single derived class.\n",
    "\n",
    "-Single inheritance follows a hierarchical structure, while multiple inheritance followws network structure.\n",
    "\n",
    "-Single inheritance does not have  a diamond like structure while multiple inheritance does."
   ]
  },
  {
   "cell_type": "code",
   "execution_count": 77,
   "id": "c3e0b6d3",
   "metadata": {},
   "outputs": [],
   "source": [
    "#single inheritance\n",
    "\n",
    "class Vehicles:\n",
    "    def __init__(self,wheels):\n",
    "        self.wheels=wheels\n",
    "        print(\"it is a 4 wheeler\")\n",
    "        \n",
    "class Car(Vehicles):\n",
    "    def __init__(self,brand,wheels):\n",
    "        super().__init__(wheels)\n",
    "        self.brand=brand\n",
    "        print(f\"the brand is {self.brand} and it is a {self.wheels} wheeler\")\n"
   ]
  },
  {
   "cell_type": "code",
   "execution_count": 78,
   "id": "b58c81db",
   "metadata": {},
   "outputs": [
    {
     "name": "stdout",
     "output_type": "stream",
     "text": [
      "it is a 4 wheeler\n",
      "the brand is HONDA and it is a 4 wheeler\n"
     ]
    }
   ],
   "source": [
    "\n",
    "Car1 = Car('HONDA', 4) \n"
   ]
  },
  {
   "cell_type": "code",
   "execution_count": 35,
   "id": "5940676f",
   "metadata": {},
   "outputs": [],
   "source": [
    "#Multiple inheritance\n",
    "class Bird:\n",
    "    def __init__(self,fly):\n",
    "        self.fly=fly\n",
    "        print(\"bird is flying\")\n",
    "        \n",
    "class Fish:\n",
    "    def __init__(self,swim):\n",
    "        self.swim=swim\n",
    "        print(\"fish is swimming\")\n",
    "\n",
    "class Penguin(Bird,Fish):\n",
    "    def __init__(self,slide,fly,swim):\n",
    "        Bird.__init__(self,fly)\n",
    "        Fish.__init__(self,swim)\n",
    "        self.slide =slide\n",
    "        print(\"penguin is sliding\")\n",
    "        "
   ]
  },
  {
   "cell_type": "code",
   "execution_count": 36,
   "id": "68bcad75",
   "metadata": {},
   "outputs": [
    {
     "name": "stdout",
     "output_type": "stream",
     "text": [
      "bird is flying\n",
      "fish is swimming\n",
      "penguin is sliding\n"
     ]
    },
    {
     "data": {
      "text/plain": [
       "True"
      ]
     },
     "execution_count": 36,
     "metadata": {},
     "output_type": "execute_result"
    }
   ],
   "source": [
    "p=Penguin(True,True,True)\n",
    "p.slide"
   ]
  },
  {
   "cell_type": "code",
   "execution_count": 41,
   "id": "6d946d33",
   "metadata": {
    "scrolled": true
   },
   "outputs": [
    {
     "name": "stdout",
     "output_type": "stream",
     "text": [
      "fish is swimming\n"
     ]
    },
    {
     "data": {
      "text/plain": [
       "'Gold fish'"
      ]
     },
     "execution_count": 41,
     "metadata": {},
     "output_type": "execute_result"
    }
   ],
   "source": [
    "b=Fish(\"Gold fish\")\n",
    "b.swim"
   ]
  },
  {
   "cell_type": "markdown",
   "id": "be9c4f43",
   "metadata": {},
   "source": [
    "3. Explain the terms \"base class\" and \"derived class\" in the context of inheritance.\n",
    "\n",
    "ANS:In the context of inheritance in python, a base class that passes on its properties and methods to another class, called a derived class.The derived class can add new features or modify the existinf features of the base class.This way, we can reuse code and represent real-world relationships.\n"
   ]
  },
  {
   "cell_type": "code",
   "execution_count": 79,
   "id": "aff3da05",
   "metadata": {},
   "outputs": [],
   "source": [
    "#example of base class and derived class:\n",
    " #Base class\n",
    "\n",
    "class Animal:\n",
    "    def __init__(self,name,age):\n",
    "        self.name=name\n",
    "        self.age=age\n",
    "        \n",
    "    def make_sound(self):\n",
    "        print(self.sound)\n",
    "        \n",
    "#Derived class\n",
    "class Cat(Animal):\n",
    "    def __init__(self,name,age,breed):   \n",
    "        super().__init__(name,age)          #call the base class constructor   \n",
    "        self.breed = breed\n",
    "        self.sound = \"meow\"          #override the base class constructor\n",
    "        \n",
    "    def fetch(self,item):\n",
    "        print(f'{self.name} fetched the {item}!')"
   ]
  },
  {
   "cell_type": "code",
   "execution_count": 80,
   "id": "b8c58023",
   "metadata": {},
   "outputs": [],
   "source": [
    "CAT1=Cat(\"MANI\",2.5,\"ragdoll\")"
   ]
  },
  {
   "cell_type": "code",
   "execution_count": 81,
   "id": "22fd18ef",
   "metadata": {},
   "outputs": [
    {
     "name": "stdout",
     "output_type": "stream",
     "text": [
      "meow\n"
     ]
    }
   ],
   "source": [
    "CAT1.make_sound()"
   ]
  },
  {
   "cell_type": "code",
   "execution_count": 89,
   "id": "ab9f6193",
   "metadata": {},
   "outputs": [
    {
     "name": "stdout",
     "output_type": "stream",
     "text": [
      "MANI fetched the rubber!\n"
     ]
    }
   ],
   "source": [
    "CAT1.fetch(\"rubber\")"
   ]
  },
  {
   "cell_type": "markdown",
   "id": "a5c9635b",
   "metadata": {},
   "source": [
    "4. What is the significance of the \"protected\" access modifier in inheritance? How does\n",
    "it differ from \"private\" and \"public\" modifiers?\n",
    "\n",
    "ANS:The protected access modifier in inheritance means that the class members or methods can be accessed within the class and from the subclasses that inherit from it.It is declared by using a single underscore('_') before the name."
   ]
  },
  {
   "cell_type": "code",
   "execution_count": 3,
   "id": "051c3022",
   "metadata": {},
   "outputs": [
    {
     "name": "stdout",
     "output_type": "stream",
     "text": [
      "Protected attribute: 10\n"
     ]
    }
   ],
   "source": [
    "#example of protected access modifier\n",
    "\n",
    "class Base:\n",
    "    def __init__(self):\n",
    "        self._protected =10   #protected attribute\n",
    "        \n",
    "class Derived(Base):\n",
    "    def __init__(self):\n",
    "        super().__init__()\n",
    "        print(\"Protected attribute:\", self._protected) # can access protected attribute\n",
    "\n",
    "obj = Derived() #print 10"
   ]
  },
  {
   "cell_type": "markdown",
   "id": "45b8383a",
   "metadata": {},
   "source": [
    "The private access modifier means that the class members or methods can only be accessed within the class.It is declared by using a double underscope (\"__\") before the name.\n",
    "\n"
   ]
  },
  {
   "cell_type": "code",
   "execution_count": 10,
   "id": "631b7d28",
   "metadata": {},
   "outputs": [
    {
     "name": "stdout",
     "output_type": "stream",
     "text": [
      "Private attribute : 20\n"
     ]
    },
    {
     "ename": "AttributeError",
     "evalue": "'Derived' object has no attribute '_Derived__private'",
     "output_type": "error",
     "traceback": [
      "\u001b[1;31m---------------------------------------------------------------------------\u001b[0m",
      "\u001b[1;31mAttributeError\u001b[0m                            Traceback (most recent call last)",
      "Cell \u001b[1;32mIn[10], line 17\u001b[0m\n\u001b[0;32m     15\u001b[0m obj \u001b[38;5;241m=\u001b[39m Base()\n\u001b[0;32m     16\u001b[0m obj\u001b[38;5;241m.\u001b[39mdisplay() \u001b[38;5;66;03m# prints 20\u001b[39;00m\n\u001b[1;32m---> 17\u001b[0m obj2 \u001b[38;5;241m=\u001b[39m \u001b[43mDerived\u001b[49m\u001b[43m(\u001b[49m\u001b[43m)\u001b[49m\n",
      "Cell \u001b[1;32mIn[10], line 12\u001b[0m, in \u001b[0;36mDerived.__init__\u001b[1;34m(self)\u001b[0m\n\u001b[0;32m     10\u001b[0m \u001b[38;5;28;01mdef\u001b[39;00m \u001b[38;5;21m__init__\u001b[39m(\u001b[38;5;28mself\u001b[39m):\n\u001b[0;32m     11\u001b[0m     \u001b[38;5;28msuper\u001b[39m()\u001b[38;5;241m.\u001b[39m\u001b[38;5;21m__init__\u001b[39m\n\u001b[1;32m---> 12\u001b[0m     \u001b[38;5;28mprint\u001b[39m(\u001b[38;5;124m\"\u001b[39m\u001b[38;5;124mPrivate attribute:\u001b[39m\u001b[38;5;124m\"\u001b[39m, \u001b[38;5;28;43mself\u001b[39;49m\u001b[38;5;241;43m.\u001b[39;49m\u001b[43m__private\u001b[49m)\n",
      "\u001b[1;31mAttributeError\u001b[0m: 'Derived' object has no attribute '_Derived__private'"
     ]
    }
   ],
   "source": [
    "# example of private modifier\n",
    "\n",
    "class Base:\n",
    "    def __init__(self):\n",
    "        self.__private =20 # private attribute\n",
    "    def display(self):\n",
    "        print(\"Private attribute :\", self.__private)  #can access private attribute\n",
    "        \n",
    "class Derived(Base):\n",
    "    def __init__(self):\n",
    "        super().__init__\n",
    "        print(\"Private attribute:\", self.__private) # cannot access private attribute \n",
    "            \n",
    "            \n",
    "obj = Base()\n",
    "obj.display() # prints 20\n",
    "obj2 = Derived() # raises AttributeError\n"
   ]
  },
  {
   "cell_type": "markdown",
   "id": "2ec5debc",
   "metadata": {},
   "source": [
    "The public access modifier means that the class members or methods can be accessed from anywhere.It is declared by using no underscore before the name."
   ]
  },
  {
   "cell_type": "code",
   "execution_count": 13,
   "id": "dc3bb9f0",
   "metadata": {},
   "outputs": [
    {
     "name": "stdout",
     "output_type": "stream",
     "text": [
      "Public attribute:  30\n",
      "30\n"
     ]
    }
   ],
   "source": [
    "#example of private modifier\n",
    "\n",
    "class Base:\n",
    "    def __init__(self):\n",
    "        self.public = 30 # public attribute\n",
    "class Derived(Base):\n",
    "    def __init__(self):\n",
    "        super().__init__()\n",
    "        print(\"Public attribute: \", self.public)   #can access public attribute\n",
    "        \n",
    "obj = Derived()     #output 30\n",
    "print(obj.public)    #   can also access public attribute "
   ]
  },
  {
   "cell_type": "markdown",
   "id": "e65fc361",
   "metadata": {},
   "source": [
    "5. What is the purpose of the \"super\" keyword in inheritance? Provide an example.\n",
    "\n",
    "ANS: The super keyword in Python allows us to access the mothods of the parent class in a child class that inherits from it.It can be used to avoid repeating code that is common to both classes."
   ]
  },
  {
   "cell_type": "code",
   "execution_count": 13,
   "id": "b5656d86",
   "metadata": {},
   "outputs": [],
   "source": [
    "#example :\n",
    "class Square():\n",
    "    def __init__(self, side):\n",
    "        self.side = side\n",
    "        \n",
    "    def area(self):\n",
    "        return self.side**2\n",
    "class Cube(Square):\n",
    "    def __init__(self,side):\n",
    "        super().__init__(side)   #call the parent class constructor\n",
    "        \n",
    "    def volume(self):\n",
    "        return self.area() * self.side   #use the parent class\n",
    "         "
   ]
  },
  {
   "cell_type": "code",
   "execution_count": 19,
   "id": "c536ded3",
   "metadata": {},
   "outputs": [
    {
     "data": {
      "text/plain": [
       "16"
      ]
     },
     "execution_count": 19,
     "metadata": {},
     "output_type": "execute_result"
    }
   ],
   "source": [
    "obj =Square(4)\n",
    "obj.area()\n",
    "\n"
   ]
  },
  {
   "cell_type": "code",
   "execution_count": 18,
   "id": "37f7fb7a",
   "metadata": {},
   "outputs": [
    {
     "data": {
      "text/plain": [
       "64"
      ]
     },
     "execution_count": 18,
     "metadata": {},
     "output_type": "execute_result"
    }
   ],
   "source": [
    "obj1 =Cube(4)\n",
    "obj1.volume()\n"
   ]
  },
  {
   "cell_type": "markdown",
   "id": "34f45e59",
   "metadata": {},
   "source": [
    "6. Create a base class called \"Vehicle\" with attributes like \"make\", \"model\", and \"year\".\n",
    "Then, create a derived class called \"Car\" that inherits from \"Vehicle\" and adds an\n",
    "attribute called \"fuel_type\". Implement appropriate methods in both classes."
   ]
  },
  {
   "cell_type": "code",
   "execution_count": 23,
   "id": "621b33b4",
   "metadata": {},
   "outputs": [],
   "source": [
    "class Vehicles:\n",
    "    def __init__(self,make,model,year):\n",
    "        self.make= make\n",
    "        self.model = model\n",
    "        self.year = year\n",
    "    \n",
    "    def info(self):\n",
    "        print(f\"This is a {self.year} {self.make} {self.model}.\")\n",
    "        \n",
    "class Car(Vehicles):\n",
    "    def __init__(self,make,model,year,fuel_type):\n",
    "        super().__init__(make,model,year)\n",
    "        self.fuel_type=fuel_type\n",
    "    \n",
    "    def info(self):\n",
    "        print(f\"This is a {self.year} {self.make} {self.model} that runs on {self.fuel_type}.\")\n",
    "        "
   ]
  },
  {
   "cell_type": "code",
   "execution_count": 24,
   "id": "7741aec5",
   "metadata": {},
   "outputs": [
    {
     "name": "stdout",
     "output_type": "stream",
     "text": [
      "This is a 2018 Honda Civic that runs on petrol.\n"
     ]
    }
   ],
   "source": [
    "my_car =Car(\"Honda\", \"Civic\", 2018, \"petrol\")\n",
    "my_car.info()"
   ]
  },
  {
   "cell_type": "markdown",
   "id": "2d11a4de",
   "metadata": {},
   "source": [
    "7. Create a base class called \"Employee\" with attributes like \"name\" and \"salary.\"\n",
    "Derive two classes, \"Manager\" and \"Developer,\" from \"Employee.\" Add an additional\n",
    "attribute called \"department\" for the \"Manager\" class and \"programming_language\"\n",
    "for the \"Developer\" class."
   ]
  },
  {
   "cell_type": "code",
   "execution_count": 27,
   "id": "77c6996e",
   "metadata": {},
   "outputs": [],
   "source": [
    "class Employee():\n",
    "    def __init__(self,name,salary):\n",
    "        self.name = name\n",
    "        self.salary = salary\n",
    "    \n",
    "    def display(self):\n",
    "        print(f\"Name: {self.name}, Salary: {self.salary}\")\n",
    "        \n",
    "class Manager(Employee):\n",
    "    def __init__(self,name,salary,department):\n",
    "        super().__init__(name,salary)\n",
    "        self.department = department\n",
    "        \n",
    "    def display(self):\n",
    "        print(f\"Name: {self.name}, Salary: {self.salary}, Department: {self.department}\")\n",
    "        \n",
    "class Developer(Employee):\n",
    "    def __init__(self,name,salary,programming_language):\n",
    "        super().__init__(name,salary)\n",
    "        self.programming_language = programming_language\n",
    "        \n",
    "    def display(self):\n",
    "        print(f\"Name: {self.name}, Salary: {self.salary}, Programming_language: {self.programming_language}\")\n",
    "        \n",
    "        "
   ]
  },
  {
   "cell_type": "code",
   "execution_count": 28,
   "id": "76ca0975",
   "metadata": {},
   "outputs": [],
   "source": [
    "person1=Manager(\"AJAY\",25000,\"MANAGING DEPT\")"
   ]
  },
  {
   "cell_type": "code",
   "execution_count": 29,
   "id": "01cd5256",
   "metadata": {},
   "outputs": [
    {
     "name": "stdout",
     "output_type": "stream",
     "text": [
      "Name: AJAY, Salary: 25000, Department: MANAGING DEPT\n"
     ]
    }
   ],
   "source": [
    "person1.display()"
   ]
  },
  {
   "cell_type": "code",
   "execution_count": 30,
   "id": "c213981f",
   "metadata": {},
   "outputs": [
    {
     "name": "stdout",
     "output_type": "stream",
     "text": [
      "Name: Pramay, Salary: 30000, Programming_language: python\n"
     ]
    }
   ],
   "source": [
    "person2 =Developer(\"Pramay\",30000,\"python\")\n",
    "person2.display()"
   ]
  },
  {
   "cell_type": "markdown",
   "id": "2256bd80",
   "metadata": {},
   "source": [
    "Design a base class called \"Shape\" with attributes like \"colour\" and \"border_width.\"\n",
    "Create derived classes, \"Rectangle\" and \"Circle,\" that inherit from \"Shape\" and add\n",
    "specific attributes like \"length\" and \"width\" for the \"Rectangle\" class and \"radius\" for\n",
    "the \"Circle\" class."
   ]
  },
  {
   "cell_type": "code",
   "execution_count": 32,
   "id": "e768b9b3",
   "metadata": {},
   "outputs": [],
   "source": [
    "class Shape():\n",
    "    def __init__(self,colour,border_width):\n",
    "        self.colour = colour\n",
    "        self.border_width = border_width\n",
    "    \n",
    "    def show_info(self):\n",
    "        print(f\"This shape has {self.colour} colour and {self.border_width} border width.\")\n",
    "class Rectangle(Shape):\n",
    "    def __init__(self,colour,border_width,length,width):\n",
    "        super().__init__(colour,border_width)\n",
    "        self.length = length\n",
    "        self.width = width\n",
    "    \n",
    "    \n",
    "    def info(self):\n",
    "        print(f\"This is a {self.colour} rectangle with a border width of {self.border_width}, a length of {self.length} and a width of {self.width}.\")\n",
    "        \n",
    "        \n",
    "class Circle(Shape):\n",
    "    def __init__(self,colour,border_width,radius):\n",
    "        super().__init__(colour,border_width)\n",
    "        self.radius = radius\n",
    "    \n",
    "    def info(self):\n",
    "        print(f\"This is a {self.colour} circle with a border width of {self.border_width} and a radius of {self.radius}.\")\n",
    "    "
   ]
  },
  {
   "cell_type": "code",
   "execution_count": 37,
   "id": "b1949d8b",
   "metadata": {},
   "outputs": [
    {
     "name": "stdout",
     "output_type": "stream",
     "text": [
      "This is a YELLOW rectangle with a border width of 5, a length of 6 and a width of 7.\n"
     ]
    }
   ],
   "source": [
    "shape =Rectangle(\"YELLOW\",5,6,7)\n",
    "shape.info()"
   ]
  },
  {
   "cell_type": "code",
   "execution_count": 39,
   "id": "8d234914",
   "metadata": {},
   "outputs": [
    {
     "name": "stdout",
     "output_type": "stream",
     "text": [
      "This shape has Blue colour and 8 border width.\n",
      "This is a Blue circle with a border width of 8 and a radius of 9.\n"
     ]
    }
   ],
   "source": [
    "shape1 =Circle(\"Blue\",8,9)\n",
    "shape1.show_info()\n",
    "shape1.info()"
   ]
  },
  {
   "cell_type": "markdown",
   "id": "27cb558d",
   "metadata": {},
   "source": [
    "9. Create a base class called \"Device\" with attributes like \"brand\" and \"model.\" Derive\n",
    "two classes, \"Phone\" and \"Tablet,\" from \"Device.\" Add specific attributes like\n",
    "\"screen_size\" for the \"Phone\" class and \"battery_capacity\" for the \"Tablet\" class."
   ]
  },
  {
   "cell_type": "code",
   "execution_count": 43,
   "id": "09f7f43d",
   "metadata": {},
   "outputs": [],
   "source": [
    "class Device():\n",
    "    def __init__(self,brand,model):\n",
    "        self.brand =brand\n",
    "        self.model =model\n",
    "        \n",
    "    def show_info(self):\n",
    "        print(f\"brand: {self.brand}, model: {self.model}\")\n",
    "        \n",
    "class Phone(Device):\n",
    "    def __init__(self,brand,model,screen_size):\n",
    "        super().__init__(brand,model)\n",
    "        self.screen_size = screen_size\n",
    "        \n",
    "    def info(self):\n",
    "        print(f\"brand: {self.brand}, model: {self.model}, screen_size: {self.screen_size}\")\n",
    "        \n",
    "class Tablet(Device):\n",
    "    def __init__(self,brand,model,battery_capacity):\n",
    "        super().__init__(brand,model)\n",
    "        self.battery_capacity = battery_capacity\n",
    "        \n",
    "    def info(self):\n",
    "        print(f\"brand: {self.brand}, model: {self.model}, battery_capacity: {self.battery_capacity}\")"
   ]
  },
  {
   "cell_type": "code",
   "execution_count": 48,
   "id": "f0ded289",
   "metadata": {},
   "outputs": [
    {
     "name": "stdout",
     "output_type": "stream",
     "text": [
      "brand: Apple, model: iphone\n"
     ]
    }
   ],
   "source": [
    "device =Device(\"Apple\",\"iphone\")\n",
    "device.show_info()"
   ]
  },
  {
   "cell_type": "code",
   "execution_count": 53,
   "id": "c1078e5d",
   "metadata": {},
   "outputs": [
    {
     "name": "stdout",
     "output_type": "stream",
     "text": [
      "brand: Apple, model: iphone 11 pro max, screen_size: 5.8\n",
      "brand: Apple, model: Apple ipad Air, battery_capacity: 8827 mah\n"
     ]
    }
   ],
   "source": [
    "device1 =Phone(\"Apple\",\"iphone 11 pro max\",5.8)\n",
    "device1.info()\n",
    "device2 =Tablet(\"Apple\",\"Apple ipad Air\",\"8827 mah\")\n",
    "device2.info()"
   ]
  },
  {
   "cell_type": "markdown",
   "id": "3bcc7fb1",
   "metadata": {},
   "source": [
    "10. Create a base class called \"BankAccount\" with attributes like \"account_number\" and\n",
    "\"balance.\" Derive two classes, \"SavingsAccount\" and \"CheckingAccount,\" from\n",
    "\"BankAccount.\" Add specific methods like \"calculate_interest\" for the\n",
    "\"SavingsAccount\" class and \"deduct_fees\" for the \"CheckingAccount\" class."
   ]
  },
  {
   "cell_type": "code",
   "execution_count": 109,
   "id": "14a7f384",
   "metadata": {},
   "outputs": [],
   "source": [
    "class BankAccount:\n",
    "    def __init__(self,account_number,balance):\n",
    "        self.account_number =account_number\n",
    "        self.balance = balance\n",
    "\n",
    "    def get_acc_info(self):\n",
    "        print(f\" Your account_number: {self.account_number} balance is {self.balance}\")\n",
    "\n",
    "class SavingsAccount(BankAccount):\n",
    "\n",
    "    def __init__(self, account_number, balance, interest_rate):\n",
    "\n",
    "        super().__init__(account_number, balance)\n",
    "        self.interest_rate = interest_rate\n",
    "\n",
    "    def calculate_interest(self):\n",
    "        return self.balance * self.interest_rate / 100\n",
    "\n",
    "class CheckingAccount(BankAccount):\n",
    "\n",
    "    def __init__(self, account_number, balance, fee):\n",
    "\n",
    "        super().__init__(account_number, balance)\n",
    "        self.fee = fee\n",
    "\n",
    "    def deduct_fees(self):\n",
    "        self.balance -=self.fee\n"
   ]
  },
  {
   "cell_type": "code",
   "execution_count": 110,
   "id": "37ea41be",
   "metadata": {},
   "outputs": [
    {
     "name": "stdout",
     "output_type": "stream",
     "text": [
      " Your account_number: 123456789 balance is 699\n"
     ]
    }
   ],
   "source": [
    "amit=BankAccount(123456789,699)\n",
    "amit.get_acc_info()\n",
    "\n",
    "\n",
    "\n"
   ]
  },
  {
   "cell_type": "code",
   "execution_count": 116,
   "id": "814835b5",
   "metadata": {},
   "outputs": [
    {
     "name": "stdout",
     "output_type": "stream",
     "text": [
      " Your account_number: 165797846 balance is 600\n",
      "12.0\n"
     ]
    }
   ],
   "source": [
    "Amitsaving = SavingsAccount(165797846,600,2)\n",
    "Amitsaving.get_acc_info()\n",
    "print(Amitsaving.calculate_interest())\n"
   ]
  },
  {
   "cell_type": "code",
   "execution_count": 115,
   "id": "f778b474",
   "metadata": {},
   "outputs": [
    {
     "name": "stdout",
     "output_type": "stream",
     "text": [
      " Your account_number: 123456789 balance is 1000\n",
      "990\n"
     ]
    }
   ],
   "source": [
    "Amitchecking = CheckingAccount(123456789,1000,10)\n",
    "Amitchecking.get_acc_info()\n",
    "Amitchecking.deduct_fees()\n",
    "print(Amitchecking.balance)"
   ]
  },
  {
   "cell_type": "code",
   "execution_count": null,
   "id": "5832265c",
   "metadata": {},
   "outputs": [],
   "source": []
  },
  {
   "cell_type": "code",
   "execution_count": null,
   "id": "6840acec",
   "metadata": {},
   "outputs": [],
   "source": []
  }
 ],
 "metadata": {
  "kernelspec": {
   "display_name": "Python 3 (ipykernel)",
   "language": "python",
   "name": "python3"
  },
  "language_info": {
   "codemirror_mode": {
    "name": "ipython",
    "version": 3
   },
   "file_extension": ".py",
   "mimetype": "text/x-python",
   "name": "python",
   "nbconvert_exporter": "python",
   "pygments_lexer": "ipython3",
   "version": "3.10.9"
  }
 },
 "nbformat": 4,
 "nbformat_minor": 5
}
